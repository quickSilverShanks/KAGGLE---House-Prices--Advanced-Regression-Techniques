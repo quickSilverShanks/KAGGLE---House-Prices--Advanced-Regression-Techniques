{
 "cells": [
  {
   "cell_type": "markdown",
   "metadata": {
    "_cell_guid": "e81ee64d-e474-4662-9036-ce23df615199",
    "_uuid": "b6269c0e8f417f82daf093dda8fa0da6d2c57d86"
   },
   "source": [
    "# Introduction\n",
    "**This will be your workspace for Kaggle's Machine Learning education track.**\n",
    "\n",
    "You will build and continually improve a model to predict housing prices as you work through each tutorial.  Fork this notebook and write your code in it.\n",
    "\n",
    "The data from the tutorial, the Melbourne data, is not available in this workspace.  You will need to translate the concepts to work with the data in this notebook, the Iowa data.\n",
    "\n",
    "Come to the [Learn Discussion](https://www.kaggle.com/learn-forum) forum for any questions or comments. \n",
    "\n",
    "# Write Your Code Below\n",
    "\n"
   ]
  },
  {
   "cell_type": "code",
   "execution_count": 1,
   "metadata": {
    "_cell_guid": "86b26423-563a-4fa1-a595-89e25ff93089",
    "_uuid": "1c728098629e1301643443b1341556a15c089b2b",
    "scrolled": true
   },
   "outputs": [],
   "source": [
    "import pandas as pd\n",
    "\n",
    "main_file_path = '../input/train.csv'\n",
    "iowa_data = pd.read_csv(main_file_path)\n",
    "print(iowa_data.describe())"
   ]
  },
  {
   "cell_type": "code",
   "execution_count": 2,
   "metadata": {
    "_cell_guid": "258a5fd4-0c3a-4f03-8970-ee7ec06e2b08",
    "_uuid": "5c84b2538d5cb7d70bd99f60542f4b6e3526be1a"
   },
   "outputs": [],
   "source": [
    "print(iowa_data.columns)"
   ]
  },
  {
   "cell_type": "code",
   "execution_count": 3,
   "metadata": {
    "_cell_guid": "b51b8d23-07d0-4f14-89d5-cc0787159eab",
    "_uuid": "e356145e42fe630db6c19571c02cdf4d319cd8bb"
   },
   "outputs": [],
   "source": [
    "iowa_data.columns.size"
   ]
  },
  {
   "cell_type": "code",
   "execution_count": 4,
   "metadata": {
    "_cell_guid": "aa5fdda3-f453-43ad-b316-eeae5cf2d78f",
    "_uuid": "348ce171f35089b5e255a391a74fefcc51ec6e7c"
   },
   "outputs": [],
   "source": [
    "SaleCondition=iowa_data.SaleCondition\n",
    "print(SaleCondition.head())"
   ]
  },
  {
   "cell_type": "code",
   "execution_count": 5,
   "metadata": {
    "_cell_guid": "f67f8d7d-b18d-4202-a522-b6b35d536ee0",
    "_uuid": "cbd946bfffd78e63fedb97b1899b4ce90f0fd6e8"
   },
   "outputs": [],
   "source": [
    "two_columns_of_data=iowa_data[['Utilities','SalePrice']]\n",
    "print(two_columns_of_data.describe())\n",
    "print(two_columns_of_data.head())"
   ]
  },
  {
   "cell_type": "code",
   "execution_count": 6,
   "metadata": {
    "_cell_guid": "07742f9a-615a-4598-95b9-8b443a10f277",
    "_uuid": "50e84755e85ee42c4dd9b0e844b8bf7fe697139b"
   },
   "outputs": [],
   "source": [
    "y=iowa_data.SalePrice\n",
    "y.head() #target variable"
   ]
  },
  {
   "cell_type": "code",
   "execution_count": 7,
   "metadata": {
    "_cell_guid": "e45d95d8-8cbe-49a8-ba1f-3b318af7b1c2",
    "_uuid": "9367868f7220bb900089d485948b362d0fe8364b"
   },
   "outputs": [],
   "source": [
    "X=iowa_data[['LotArea','YearBuilt','1stFlrSF','2ndFlrSF','FullBath','BedroomAbvGr','TotRmsAbvGrd']]\n",
    "X.head() #predictor data"
   ]
  },
  {
   "cell_type": "code",
   "execution_count": 8,
   "metadata": {
    "_cell_guid": "f3dd49e2-f9a3-48ba-ba32-f5a4cdd22f6c",
    "_uuid": "de850a4aec9f8b46d0dec068a2746cae327f95ef"
   },
   "outputs": [],
   "source": [
    "from sklearn.tree import DecisionTreeRegressor\n",
    "\n",
    "iowa_model=DecisionTreeRegressor()\n",
    "iowa_model.fit(X,y)"
   ]
  },
  {
   "cell_type": "code",
   "execution_count": 9,
   "metadata": {
    "_cell_guid": "74372101-aecc-4f27-b7a2-97d631eac745",
    "_uuid": "9fa5aa1fb1b9726ba902a6734cea00e1eb80a45c"
   },
   "outputs": [],
   "source": [
    "print(\"Prediction for below 5 datapoints:\")\n",
    "print(X.head())\n",
    "print(\"The predictions are:\")\n",
    "print(iowa_model.predict(X.head()))\n",
    "print(\"The actual prices are:\")\n",
    "print(y.head())"
   ]
  },
  {
   "cell_type": "code",
   "execution_count": 10,
   "metadata": {
    "_cell_guid": "79c4cb83-04d9-4833-a7a0-38428b97a770",
    "_uuid": "317284826b713eb734046893104f38814dcaf1ee"
   },
   "outputs": [],
   "source": [
    "from sklearn.metrics import mean_absolute_error\n",
    "\n",
    "predicted_prices=iowa_model.predict(X)\n",
    "mean_absolute_error(predicted_prices,y)"
   ]
  },
  {
   "cell_type": "code",
   "execution_count": 11,
   "metadata": {
    "_cell_guid": "6ae95157-00e4-438d-8ec2-4382aeba6169",
    "_uuid": "182493d9931bcd50806a39e3f3ccc82e7ee902d2"
   },
   "outputs": [],
   "source": [
    "from sklearn.model_selection import train_test_split\n",
    "\n",
    "train_X,val_X,train_y,val_y=train_test_split(X,y,random_state=0)\n",
    "\n",
    "iowa_model=DecisionTreeRegressor()\n",
    "iowa_model.fit(train_X,train_y)\n",
    "\n",
    "predictions=iowa_model.predict(val_X)\n",
    "print(mean_absolute_error(predictions,val_y))"
   ]
  },
  {
   "cell_type": "code",
   "execution_count": 12,
   "metadata": {
    "_cell_guid": "cf32a77f-e831-4066-8439-5cf5d1414328",
    "_uuid": "06a131fab22433e434ff2e94fdb6e58dd351708f"
   },
   "outputs": [],
   "source": [
    "\n",
    "def get_mae(leafnodes,train_X,val_X,train_y,val_y):\n",
    "    iowa_model=DecisionTreeRegressor(max_leaf_nodes=leafnodes,random_state=0)\n",
    "    iowa_model.fit(train_X,train_y)\n",
    "    predictions=iowa_model.predict(val_X)\n",
    "    return(mean_absolute_error(predictions,val_y))\n",
    "\n",
    "train_X,val_X,train_y,val_y=train_test_split(X,y,random_state=0)\n",
    "\n",
    "for leafnodes in [10,50,100,250,500,1000,2500,5000]:\n",
    "    mae=get_mae(leafnodes,train_X,val_X,train_y,val_y)\n",
    "    print(\"Leaf Nodes: %d \\t Mean Absolute Error: %d\" %(leafnodes,mae))\n"
   ]
  },
  {
   "cell_type": "code",
   "execution_count": 13,
   "metadata": {
    "_cell_guid": "5babb622-d8ec-4cf2-86d4-71e8d29c0afd",
    "_uuid": "c2d620a38ec46e870156a3ba7264f5a9b6764041"
   },
   "outputs": [],
   "source": [
    "mae_progress=pd.DataFrame([],columns=['LeafCount','MAE'])\n",
    "for leafnodes in range(10,5000,10):\n",
    "    mae=get_mae(leafnodes,train_X,val_X,train_y,val_y)\n",
    "    df_temp=pd.DataFrame([[leafnodes,mae]],columns=['LeafCount','MAE'])\n",
    "    mae_progress=mae_progress.append(df_temp,ignore_index=True)\n",
    "print(mae_progress.head())"
   ]
  },
  {
   "cell_type": "code",
   "execution_count": 14,
   "metadata": {
    "_cell_guid": "3f31e664-9cb4-4359-83f9-de9767929335",
    "_uuid": "a06e6c1eae594f985f5d39c363024af74467647a"
   },
   "outputs": [],
   "source": [
    "%matplotlib inline\n",
    "import matplotlib.pyplot as plt\n",
    "\n",
    "plt.plot(mae_progress.LeafCount,mae_progress.MAE)"
   ]
  },
  {
   "cell_type": "code",
   "execution_count": 15,
   "metadata": {
    "_cell_guid": "f5cf2d27-eae5-4c93-9582-4fc1468a2ecb",
    "_uuid": "59920ea35c281ef327e16451e9806fdac9a6061f"
   },
   "outputs": [],
   "source": [
    "plt.plot(mae_progress[mae_progress[\"LeafCount\"]<500].LeafCount,mae_progress[mae_progress[\"LeafCount\"]<500].MAE)"
   ]
  },
  {
   "cell_type": "code",
   "execution_count": 16,
   "metadata": {
    "_cell_guid": "350b4e23-7752-4ab2-844b-e251b1e58a69",
    "_uuid": "c1cb82a3062f5564a5be4394ce04d5aa877d34b9"
   },
   "outputs": [],
   "source": [
    "from sklearn.ensemble import RandomForestRegressor\n",
    "\n",
    "iowa_forestmodel=RandomForestRegressor()\n",
    "iowa_forestmodel.fit(train_X,train_y)\n",
    "predictions=iowa_forestmodel.predict(val_X)\n",
    "print(mean_absolute_error(val_y,predictions))"
   ]
  },
  {
   "cell_type": "code",
   "execution_count": 17,
   "metadata": {
    "_cell_guid": "739dca3c-ad20-436e-9e21-0c22b60a8b88",
    "_uuid": "d6842d56d9cfbe7f4c20853ce88c6110e4573775",
    "collapsed": true
   },
   "outputs": [],
   "source": [
    "test = pd.read_csv('../input/test.csv')\n",
    "test_X=test[['LotArea','YearBuilt','1stFlrSF','2ndFlrSF','FullBath','BedroomAbvGr','TotRmsAbvGrd']]\n",
    "\n",
    "predictions=iowa_forestmodel.predict(test_X)\n",
    "\n",
    "my_submission = pd.DataFrame({'Id': test.Id, 'SalePrice': predictions})\n",
    "my_submission.to_csv('submission.csv', index=False)"
   ]
  },
  {
   "cell_type": "code",
   "execution_count": 18,
   "metadata": {
    "_cell_guid": "1fee9f70-78a8-4455-b54a-2286aedec061",
    "_uuid": "3a3f0d8cbdd5c9e4717d8a0ad2e032ba5d5dfdd4"
   },
   "outputs": [],
   "source": [
    "predictions"
   ]
  },
  {
   "cell_type": "code",
   "execution_count": 19,
   "metadata": {
    "_cell_guid": "667b34b6-e8ab-489a-871b-cc1d7876c464",
    "_uuid": "04c38bc5e0806c74390f8713bd78ea07159ac995",
    "scrolled": false
   },
   "outputs": [],
   "source": [
    "#This is where Level2 of tutorial begins(and a lot of experimenting with python)\n",
    "\n",
    "dtype_table=pd.DataFrame(iowa_data.dtypes,columns=['dtype']).reset_index()\n",
    "dtype_table.head(10)\n"
   ]
  },
  {
   "cell_type": "code",
   "execution_count": 20,
   "metadata": {
    "_cell_guid": "238f7b22-71a6-424b-a638-e5234ffba153",
    "_uuid": "f135cb376ca6432a5dc15d8ab98192b9c923403c"
   },
   "outputs": [],
   "source": [
    "missing_info=pd.DataFrame(iowa_data.isnull().sum(),columns=['Missing']).reset_index()\n",
    "print(missing_info.head())"
   ]
  },
  {
   "cell_type": "code",
   "execution_count": 21,
   "metadata": {
    "_cell_guid": "9786cbc5-09cb-497f-850b-ffe61d0c2980",
    "_uuid": "afced39e59ef0d97695b79505a5800e9fee7f96d",
    "scrolled": false
   },
   "outputs": [],
   "source": [
    "missing_vnames=missing_info[missing_info['Missing']!=0]\n",
    "missing_vnames=missing_vnames.sort_values(['Missing'],ascending=False)\n",
    "print(missing_vnames)\n",
    "#Variables we used to train our model till this point- 'LotArea','YearBuilt','1stFlrSF','2ndFlrSF','FullBath','BedroomAbvGr','TotRmsAbvGrd'"
   ]
  },
  {
   "cell_type": "code",
   "execution_count": 22,
   "metadata": {
    "_cell_guid": "afd673ab-55a7-4c59-9b80-8a9a57caf195",
    "_uuid": "d4e07ffc7b59cd0496e4379c130ef6c8f96befe1"
   },
   "outputs": [],
   "source": [
    "missing_vtypes=pd.concat([dtype_table,missing_vnames],axis=1,join='inner').sort_values(['Missing'],ascending=False)\n",
    "missing_vtypes\n",
    "#Now we check the non-object vars from below in out model- 'LotFrontage','GarageYrBlt','MasVnrArea'\n"
   ]
  },
  {
   "cell_type": "code",
   "execution_count": 23,
   "metadata": {
    "_cell_guid": "a98dc03f-ba27-48fe-9a02-3e243264850f",
    "_kg_hide-input": false,
    "_kg_hide-output": false,
    "_uuid": "0f73996cc3e0943edf62f9dd7fccec749e73d494",
    "scrolled": false
   },
   "outputs": [],
   "source": [
    "y=iowa_data.SalePrice #target variable\n",
    "X2=iowa_data[['LotArea','YearBuilt','1stFlrSF','2ndFlrSF','FullBath','BedroomAbvGr','TotRmsAbvGrd','LotFrontage','GarageYrBlt','MasVnrArea']]\n",
    "X2.head() #New predictor data"
   ]
  },
  {
   "cell_type": "code",
   "execution_count": 24,
   "metadata": {
    "_cell_guid": "410d5528-21b0-4a1a-a43f-ec3d229a9c70",
    "_uuid": "f2159fb9ff1416a90dc8e9cc3c0afba0bb53eaea",
    "scrolled": true
   },
   "outputs": [],
   "source": [
    "train_X2,val_X2,train_y2,val_y2=train_test_split(X2,y,random_state=0)\n",
    "def score_dataset(train_X,test_X,train_y,test_y): #this function uses MAE of random forest predictions to score the model\n",
    "    rforest_model=RandomForestRegressor()\n",
    "    rforest_model.fit(train_X,train_y)\n",
    "    pred_y=rforest_model.predict(test_X)\n",
    "    return mean_absolute_error(pred_y,test_y)\n",
    "print(\"Score before including missing fields: \",score_dataset(train_X,val_X,train_y,val_y))"
   ]
  },
  {
   "cell_type": "code",
   "execution_count": 25,
   "metadata": {
    "_cell_guid": "a7971496-0937-49cd-9da4-e4c1c8d4d228",
    "_uuid": "5e85522e58af5fbba86a7fff07a6aedae8e2b0b2"
   },
   "outputs": [],
   "source": [
    "from sklearn.preprocessing import Imputer\n",
    "\n",
    "myimputer=Imputer()\n",
    "imputed_trainX=pd.DataFrame(myimputer.fit_transform(train_X2))\n",
    "imputed_trainX.columns=train_X2.columns\n",
    "imputed_valX=pd.DataFrame(myimputer.transform(val_X2))\n",
    "imputed_valX.columns=val_X2.columns\n",
    "print(\"Score after imputing missing fields: \",score_dataset(imputed_trainX,imputed_valX,train_y,val_y))"
   ]
  },
  {
   "cell_type": "code",
   "execution_count": 26,
   "metadata": {
    "_cell_guid": "1e9e86af-1ada-46b0-88e8-fae1f59f1c36",
    "_uuid": "58752a431720a67b058a2979f34dbf3749c1f3b3"
   },
   "outputs": [],
   "source": [
    "imputed_valX.head()"
   ]
  },
  {
   "cell_type": "code",
   "execution_count": 27,
   "metadata": {
    "_cell_guid": "cf6b1b5d-a8ff-42f0-8eb2-995c6c82e1c1",
    "_uuid": "eed1e659a083e67ad9e3ec3a44cdbff0ac5fcee4"
   },
   "outputs": [],
   "source": [
    "imputed_trainXplus=train_X2.copy()\n",
    "imputed_valXplus=val_X2.copy()\n",
    "\n",
    "missingv=[col for col in X2.columns if X2[col].isnull().any()]\n",
    "for col in missingv:\n",
    "    imputed_trainXplus[col+'_was_missing']=imputed_trainXplus[col].isnull()\n",
    "    imputed_valXplus[col+'_was_missing']=imputed_valXplus[col].isnull()\n",
    "\n",
    "myimputer=Imputer()\n",
    "imputed_trainXplus=myimputer.fit_transform(imputed_trainXplus)\n",
    "imputed_valXplus=myimputer.transform(imputed_valXplus)\n",
    "print(\"Score after imputing missing fields and adding extra columns: \",score_dataset(imputed_trainXplus,imputed_valXplus,train_y,val_y))"
   ]
  },
  {
   "cell_type": "code",
   "execution_count": 28,
   "metadata": {
    "_cell_guid": "df5045ce-45ec-4d38-a03e-27fec5b53262",
    "_uuid": "f4ff82acd84a47d9029f2883177b58b55422c81d",
    "scrolled": false
   },
   "outputs": [],
   "source": [
    "mae_progress2=pd.DataFrame([],columns=['LeafCount','MAE'])\n",
    "for leafnodes in range(10,5000,10):\n",
    "    mae=get_mae(leafnodes,imputed_trainXplus,imputed_valXplus,train_y,val_y)\n",
    "    df_temp=pd.DataFrame([[leafnodes,mae]],columns=['LeafCount','MAE'])\n",
    "    mae_progress2=mae_progress2.append(df_temp,ignore_index=True)\n",
    "print(mae_progress2.head())"
   ]
  },
  {
   "cell_type": "code",
   "execution_count": 29,
   "metadata": {
    "_cell_guid": "81c591aa-212f-403e-b6e5-b5fb605d6edd",
    "_uuid": "80aa9789319be21551be8139651ad429b3713ea4"
   },
   "outputs": [],
   "source": [
    "plt.plot(mae_progress2['LeafCount'],mae_progress2['MAE'])"
   ]
  },
  {
   "cell_type": "code",
   "execution_count": 30,
   "metadata": {
    "_cell_guid": "b3c4718c-2173-4883-8bfd-4a859e8f87dc",
    "_uuid": "d20d0e0d06c7e9cd0b9cf52c3018d73929fd1e92"
   },
   "outputs": [],
   "source": [
    "plt.plot(mae_progress2[mae_progress2[\"LeafCount\"]<500].LeafCount,mae_progress2[mae_progress2[\"LeafCount\"]<500].MAE)"
   ]
  },
  {
   "cell_type": "code",
   "execution_count": 31,
   "metadata": {
    "_cell_guid": "b2d3b528-d1ff-4cab-b2a3-97d817c039fa",
    "_uuid": "663f7bbf333b4c945083b42f93652ed45ec7b1ea"
   },
   "outputs": [],
   "source": [
    "#when we keep all the numerical variables\n",
    "X_allnum=iowa_data.select_dtypes(exclude=['object'])\n",
    "y=X_allnum.SalePrice #target variable\n",
    "X_allnum=X_allnum.drop(['SalePrice'],axis=1) #predictor data(with missing vars)\n",
    "X_allnum_nom=X_allnum.dropna(axis=1) #predictor data(missing vars dropped)\n",
    "\n",
    "#missing_cols=[col for col in X_allnum.columns if X_allnum[col].isnull().any()]\n",
    "\n",
    "X_allnum_imputed=X_allnum.copy()\n",
    "myimputer=Imputer()\n",
    "X_allnum_imputed=pd.DataFrame(myimputer.fit_transform(X_allnum_imputed)) #imputed predictor data\n",
    "X_allnum_imputed.columns=X_allnum.columns\n",
    "\n",
    "trainXa,testXa,trainYa,testYa=train_test_split(X_allnum_nom,y,random_state=0)\n",
    "trainXb,testXb,trainYb,testYb=train_test_split(X_allnum_imputed,y,random_state=0)\n",
    "\n",
    "print(\"Score with dropped missing fields and all num fields included: \",score_dataset(imputed_trainXplus,imputed_valXplus,train_y,val_y))\n",
    "print(\"Score after imputing missing fields and all num fields included: \",score_dataset(imputed_trainXplus,imputed_valXplus,train_y,val_y))\n"
   ]
  },
  {
   "cell_type": "code",
   "execution_count": 32,
   "metadata": {
    "_cell_guid": "cf7d30a9-20b3-41ad-9f70-44fe7b9b4b2d",
    "_uuid": "08e5028533c4e376701409a1d5e14d564fb55219"
   },
   "outputs": [],
   "source": [
    "from sklearn.model_selection import cross_val_score\n",
    "\n",
    "def get_mae(X,y):\n",
    "    return -1*cross_val_score(RandomForestRegressor(50),X,y,scoring='neg_mean_absolute_error').mean()\n",
    "\n",
    "X_excat = iowa_data.select_dtypes(exclude=['object']).dropna(axis=1).drop(['SalePrice'],axis=1)\n",
    "mae_excat = get_mae(X_excat, y)\n",
    "print('Mean Absolute Error when Dropping Categoricals and missing: ' + str(mae_excat))\n",
    "\n",
    "X_excat2 = iowa_data.select_dtypes(exclude=['object']).fillna(iowa_data.mean()).drop(['SalePrice'],axis=1)\n",
    "mae_excat2 = get_mae(X_excat2, y)\n",
    "print('Mean Absolute Error with dropped Categoricals and MVI: ' + str(mae_excat2))\n",
    "\n",
    "X_incat = pd.get_dummies(iowa_data.drop(['SalePrice','LotFrontage','GarageYrBlt','MasVnrArea','PoolQC','MiscFeature','Alley'],axis=1)) #one hot encoding\n",
    "mae_incat=get_mae(X_incat,y)\n",
    "print('Mean Absolute Error with One-Hot Encoding and dropped missing: ' + str(mae_incat))\n",
    "\n",
    "X_incat2 = pd.get_dummies(iowa_data.drop(['SalePrice','LotFrontage','GarageYrBlt','MasVnrArea'],axis=1)).fillna(iowa_data.mean()) #one hot encoding\n",
    "mae_incat2=get_mae(X_incat2,y)\n",
    "print('Mean Absolute Error with One-Hot Encoding and MVI: ' + str(mae_incat2))\n",
    "\n",
    "X_incat3 = pd.get_dummies(iowa_data).fillna(iowa_data.mean()).drop(['SalePrice'],axis=1) #one hot encoding no variable dropping\n",
    "mae_incat3=get_mae(X_incat3,y)\n",
    "print('Mean Absolute Error with One-Hot Encoding and MVI for all variables: ' + str(mae_incat3))"
   ]
  },
  {
   "cell_type": "code",
   "execution_count": 41,
   "metadata": {
    "_cell_guid": "69efb4b5-1531-4954-85fb-1d2ce704feb1",
    "_uuid": "7ba3303e086a57e3f0158a47be3b678804990c3b"
   },
   "outputs": [],
   "source": [
    "test = pd.read_csv('../input/test.csv')\n",
    "test_X=pd.get_dummies(test).fillna(test.mean())\n",
    "final_train,final_test=X_incat2.align(test_X,join='inner',axis=1)\n",
    "\n",
    "trX,vlX,trY,vlY=train_test_split(final_train,y,random_state=0)\n",
    "\n",
    "rfmodel=RandomForestRegressor()\n",
    "rfmodel.fit(trX,trY)\n",
    "val_preds=rfmodel.predict(vlX)\n",
    "print(\"MAE for train-val split: \",mean_absolute_error(vlY,val_preds))\n",
    "\n",
    "predictions=rfmodel.predict(final_test)\n",
    "\n",
    "my_submission = pd.DataFrame({'Id': final_test.Id, 'SalePrice': predictions})\n",
    "my_submission.to_csv('submission2.csv', index=False)"
   ]
  },
  {
   "cell_type": "code",
   "execution_count": 52,
   "metadata": {
    "_uuid": "d823e4827987942d0a6ac8e7a571c1ad6feb3f12"
   },
   "outputs": [],
   "source": [
    "from xgboost import XGBRegressor\n",
    "\n",
    "def xgb_mae(n_est):\n",
    "    xgb_model=XGBRegressor(n_estimators=n_est)\n",
    "    xgb_model.fit(trX,trY)\n",
    "    predictions=xgb_model.predict(vlX)\n",
    "    return mean_absolute_error(predictions,vlY)\n",
    "\n",
    "xgb_progress=pd.DataFrame([],columns=['n_estimators','MAE'])\n",
    "for i in range(20,1000,20):\n",
    "    score=xgb_mae(i)\n",
    "    temp=pd.DataFrame([[i,score]],columns=['n_estimators','MAE'])\n",
    "    xgb_progress=xgb_progress.append(temp,ignore_index=True)\n",
    "print(xgb_progress.head())"
   ]
  },
  {
   "cell_type": "code",
   "execution_count": 53,
   "metadata": {
    "_uuid": "1056770cf4145454e4152307a5a4ffdabdd2ea0a"
   },
   "outputs": [],
   "source": [
    "plt.plot(xgb_progress['n_estimators'],xgb_progress['MAE'])"
   ]
  },
  {
   "cell_type": "code",
   "execution_count": 66,
   "metadata": {
    "_uuid": "24836dad5945ace2197506f1873a08f8ecaab3a9",
    "scrolled": true
   },
   "outputs": [],
   "source": [
    "xgb_model2=XGBRegressor(n_estimators=500)\n",
    "xgb_model2.fit(trX,trY,early_stopping_rounds=5,eval_set=[(vlX,vlY)])\n",
    "xgb_model2=XGBRegressor(n_estimators=92)\n",
    "xgb_model2.fit(trX,trY)\n",
    "predictions=xgb_model2.predict(vlX)\n",
    "mean_absolute_error(predictions,vlY)"
   ]
  },
  {
   "cell_type": "code",
   "execution_count": 69,
   "metadata": {
    "_uuid": "587304254dabe3dad61badbff72bcbbba455ffbe"
   },
   "outputs": [],
   "source": [
    "xgb_model3=XGBRegressor(n_estimators=500,learning_rate=0.05)\n",
    "xgb_model3.fit(trX,trY,early_stopping_rounds=5,eval_set=[(vlX,vlY)])\n",
    "xgb_model3=XGBRegressor(n_estimators=161,learning_rate=0.05)\n",
    "xgb_model3.fit(trX,trY)\n",
    "predictions=xgb_model3.predict(vlX)\n",
    "mean_absolute_error(predictions,vlY)"
   ]
  },
  {
   "cell_type": "code",
   "execution_count": 70,
   "metadata": {
    "_uuid": "6e716adafc5f4037c98429fc189cccdae2bab559",
    "collapsed": true
   },
   "outputs": [],
   "source": [
    "predictions=xgb_model2.predict(final_test)\n",
    "\n",
    "my_submission = pd.DataFrame({'Id': final_test.Id, 'SalePrice': predictions})\n",
    "my_submission.to_csv('submission3.csv', index=False)"
   ]
  }
 ],
 "metadata": {
  "kernelspec": {
   "display_name": "Python 3",
   "language": "python",
   "name": "python3"
  },
  "language_info": {
   "codemirror_mode": {
    "name": "ipython",
    "version": 3
   },
   "file_extension": ".py",
   "mimetype": "text/x-python",
   "name": "python",
   "nbconvert_exporter": "python",
   "pygments_lexer": "ipython3",
   "version": "3.7.3"
  }
 },
 "nbformat": 4,
 "nbformat_minor": 1
}
