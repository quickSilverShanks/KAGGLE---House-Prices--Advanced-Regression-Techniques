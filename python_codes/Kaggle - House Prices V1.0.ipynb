{
 "cells": [
  {
   "cell_type": "markdown",
   "metadata": {},
   "source": [
    "### Data Exploration :"
   ]
  },
  {
   "cell_type": "code",
   "execution_count": 1,
   "metadata": {},
   "outputs": [],
   "source": [
    "import pandas as pd"
   ]
  },
  {
   "cell_type": "code",
   "execution_count": 2,
   "metadata": {},
   "outputs": [
    {
     "data": {
      "text/plain": [
       "(1460, 81)"
      ]
     },
     "execution_count": 2,
     "metadata": {},
     "output_type": "execute_result"
    }
   ],
   "source": [
    "location=\"../rawdata\"\n",
    "\n",
    "ames_data=pd.read_csv(location + \"/train.csv\")\n",
    "test_data=pd.read_csv(location + \"/test.csv\")\n",
    "ames_data.shape"
   ]
  },
  {
   "cell_type": "code",
   "execution_count": 3,
   "metadata": {},
   "outputs": [
    {
     "data": {
      "text/html": [
       "<div>\n",
       "<style scoped>\n",
       "    .dataframe tbody tr th:only-of-type {\n",
       "        vertical-align: middle;\n",
       "    }\n",
       "\n",
       "    .dataframe tbody tr th {\n",
       "        vertical-align: top;\n",
       "    }\n",
       "\n",
       "    .dataframe thead th {\n",
       "        text-align: right;\n",
       "    }\n",
       "</style>\n",
       "<table border=\"1\" class=\"dataframe\">\n",
       "  <thead>\n",
       "    <tr style=\"text-align: right;\">\n",
       "      <th></th>\n",
       "      <th>Id</th>\n",
       "      <th>MSSubClass</th>\n",
       "      <th>LotFrontage</th>\n",
       "      <th>LotArea</th>\n",
       "      <th>OverallQual</th>\n",
       "      <th>OverallCond</th>\n",
       "      <th>YearBuilt</th>\n",
       "      <th>YearRemodAdd</th>\n",
       "      <th>MasVnrArea</th>\n",
       "      <th>BsmtFinSF1</th>\n",
       "      <th>...</th>\n",
       "      <th>WoodDeckSF</th>\n",
       "      <th>OpenPorchSF</th>\n",
       "      <th>EnclosedPorch</th>\n",
       "      <th>3SsnPorch</th>\n",
       "      <th>ScreenPorch</th>\n",
       "      <th>PoolArea</th>\n",
       "      <th>MiscVal</th>\n",
       "      <th>MoSold</th>\n",
       "      <th>YrSold</th>\n",
       "      <th>SalePrice</th>\n",
       "    </tr>\n",
       "  </thead>\n",
       "  <tbody>\n",
       "    <tr>\n",
       "      <th>count</th>\n",
       "      <td>1460.000000</td>\n",
       "      <td>1460.000000</td>\n",
       "      <td>1201.000000</td>\n",
       "      <td>1460.000000</td>\n",
       "      <td>1460.000000</td>\n",
       "      <td>1460.000000</td>\n",
       "      <td>1460.000000</td>\n",
       "      <td>1460.000000</td>\n",
       "      <td>1452.000000</td>\n",
       "      <td>1460.000000</td>\n",
       "      <td>...</td>\n",
       "      <td>1460.000000</td>\n",
       "      <td>1460.000000</td>\n",
       "      <td>1460.000000</td>\n",
       "      <td>1460.000000</td>\n",
       "      <td>1460.000000</td>\n",
       "      <td>1460.000000</td>\n",
       "      <td>1460.000000</td>\n",
       "      <td>1460.000000</td>\n",
       "      <td>1460.000000</td>\n",
       "      <td>1460.000000</td>\n",
       "    </tr>\n",
       "    <tr>\n",
       "      <th>mean</th>\n",
       "      <td>730.500000</td>\n",
       "      <td>56.897260</td>\n",
       "      <td>70.049958</td>\n",
       "      <td>10516.828082</td>\n",
       "      <td>6.099315</td>\n",
       "      <td>5.575342</td>\n",
       "      <td>1971.267808</td>\n",
       "      <td>1984.865753</td>\n",
       "      <td>103.685262</td>\n",
       "      <td>443.639726</td>\n",
       "      <td>...</td>\n",
       "      <td>94.244521</td>\n",
       "      <td>46.660274</td>\n",
       "      <td>21.954110</td>\n",
       "      <td>3.409589</td>\n",
       "      <td>15.060959</td>\n",
       "      <td>2.758904</td>\n",
       "      <td>43.489041</td>\n",
       "      <td>6.321918</td>\n",
       "      <td>2007.815753</td>\n",
       "      <td>180921.195890</td>\n",
       "    </tr>\n",
       "    <tr>\n",
       "      <th>std</th>\n",
       "      <td>421.610009</td>\n",
       "      <td>42.300571</td>\n",
       "      <td>24.284752</td>\n",
       "      <td>9981.264932</td>\n",
       "      <td>1.382997</td>\n",
       "      <td>1.112799</td>\n",
       "      <td>30.202904</td>\n",
       "      <td>20.645407</td>\n",
       "      <td>181.066207</td>\n",
       "      <td>456.098091</td>\n",
       "      <td>...</td>\n",
       "      <td>125.338794</td>\n",
       "      <td>66.256028</td>\n",
       "      <td>61.119149</td>\n",
       "      <td>29.317331</td>\n",
       "      <td>55.757415</td>\n",
       "      <td>40.177307</td>\n",
       "      <td>496.123024</td>\n",
       "      <td>2.703626</td>\n",
       "      <td>1.328095</td>\n",
       "      <td>79442.502883</td>\n",
       "    </tr>\n",
       "    <tr>\n",
       "      <th>min</th>\n",
       "      <td>1.000000</td>\n",
       "      <td>20.000000</td>\n",
       "      <td>21.000000</td>\n",
       "      <td>1300.000000</td>\n",
       "      <td>1.000000</td>\n",
       "      <td>1.000000</td>\n",
       "      <td>1872.000000</td>\n",
       "      <td>1950.000000</td>\n",
       "      <td>0.000000</td>\n",
       "      <td>0.000000</td>\n",
       "      <td>...</td>\n",
       "      <td>0.000000</td>\n",
       "      <td>0.000000</td>\n",
       "      <td>0.000000</td>\n",
       "      <td>0.000000</td>\n",
       "      <td>0.000000</td>\n",
       "      <td>0.000000</td>\n",
       "      <td>0.000000</td>\n",
       "      <td>1.000000</td>\n",
       "      <td>2006.000000</td>\n",
       "      <td>34900.000000</td>\n",
       "    </tr>\n",
       "    <tr>\n",
       "      <th>25%</th>\n",
       "      <td>365.750000</td>\n",
       "      <td>20.000000</td>\n",
       "      <td>59.000000</td>\n",
       "      <td>7553.500000</td>\n",
       "      <td>5.000000</td>\n",
       "      <td>5.000000</td>\n",
       "      <td>1954.000000</td>\n",
       "      <td>1967.000000</td>\n",
       "      <td>0.000000</td>\n",
       "      <td>0.000000</td>\n",
       "      <td>...</td>\n",
       "      <td>0.000000</td>\n",
       "      <td>0.000000</td>\n",
       "      <td>0.000000</td>\n",
       "      <td>0.000000</td>\n",
       "      <td>0.000000</td>\n",
       "      <td>0.000000</td>\n",
       "      <td>0.000000</td>\n",
       "      <td>5.000000</td>\n",
       "      <td>2007.000000</td>\n",
       "      <td>129975.000000</td>\n",
       "    </tr>\n",
       "    <tr>\n",
       "      <th>50%</th>\n",
       "      <td>730.500000</td>\n",
       "      <td>50.000000</td>\n",
       "      <td>69.000000</td>\n",
       "      <td>9478.500000</td>\n",
       "      <td>6.000000</td>\n",
       "      <td>5.000000</td>\n",
       "      <td>1973.000000</td>\n",
       "      <td>1994.000000</td>\n",
       "      <td>0.000000</td>\n",
       "      <td>383.500000</td>\n",
       "      <td>...</td>\n",
       "      <td>0.000000</td>\n",
       "      <td>25.000000</td>\n",
       "      <td>0.000000</td>\n",
       "      <td>0.000000</td>\n",
       "      <td>0.000000</td>\n",
       "      <td>0.000000</td>\n",
       "      <td>0.000000</td>\n",
       "      <td>6.000000</td>\n",
       "      <td>2008.000000</td>\n",
       "      <td>163000.000000</td>\n",
       "    </tr>\n",
       "    <tr>\n",
       "      <th>75%</th>\n",
       "      <td>1095.250000</td>\n",
       "      <td>70.000000</td>\n",
       "      <td>80.000000</td>\n",
       "      <td>11601.500000</td>\n",
       "      <td>7.000000</td>\n",
       "      <td>6.000000</td>\n",
       "      <td>2000.000000</td>\n",
       "      <td>2004.000000</td>\n",
       "      <td>166.000000</td>\n",
       "      <td>712.250000</td>\n",
       "      <td>...</td>\n",
       "      <td>168.000000</td>\n",
       "      <td>68.000000</td>\n",
       "      <td>0.000000</td>\n",
       "      <td>0.000000</td>\n",
       "      <td>0.000000</td>\n",
       "      <td>0.000000</td>\n",
       "      <td>0.000000</td>\n",
       "      <td>8.000000</td>\n",
       "      <td>2009.000000</td>\n",
       "      <td>214000.000000</td>\n",
       "    </tr>\n",
       "    <tr>\n",
       "      <th>max</th>\n",
       "      <td>1460.000000</td>\n",
       "      <td>190.000000</td>\n",
       "      <td>313.000000</td>\n",
       "      <td>215245.000000</td>\n",
       "      <td>10.000000</td>\n",
       "      <td>9.000000</td>\n",
       "      <td>2010.000000</td>\n",
       "      <td>2010.000000</td>\n",
       "      <td>1600.000000</td>\n",
       "      <td>5644.000000</td>\n",
       "      <td>...</td>\n",
       "      <td>857.000000</td>\n",
       "      <td>547.000000</td>\n",
       "      <td>552.000000</td>\n",
       "      <td>508.000000</td>\n",
       "      <td>480.000000</td>\n",
       "      <td>738.000000</td>\n",
       "      <td>15500.000000</td>\n",
       "      <td>12.000000</td>\n",
       "      <td>2010.000000</td>\n",
       "      <td>755000.000000</td>\n",
       "    </tr>\n",
       "  </tbody>\n",
       "</table>\n",
       "<p>8 rows × 38 columns</p>\n",
       "</div>"
      ],
      "text/plain": [
       "                Id   MSSubClass  LotFrontage        LotArea  OverallQual  \\\n",
       "count  1460.000000  1460.000000  1201.000000    1460.000000  1460.000000   \n",
       "mean    730.500000    56.897260    70.049958   10516.828082     6.099315   \n",
       "std     421.610009    42.300571    24.284752    9981.264932     1.382997   \n",
       "min       1.000000    20.000000    21.000000    1300.000000     1.000000   \n",
       "25%     365.750000    20.000000    59.000000    7553.500000     5.000000   \n",
       "50%     730.500000    50.000000    69.000000    9478.500000     6.000000   \n",
       "75%    1095.250000    70.000000    80.000000   11601.500000     7.000000   \n",
       "max    1460.000000   190.000000   313.000000  215245.000000    10.000000   \n",
       "\n",
       "       OverallCond    YearBuilt  YearRemodAdd   MasVnrArea   BsmtFinSF1  ...  \\\n",
       "count  1460.000000  1460.000000   1460.000000  1452.000000  1460.000000  ...   \n",
       "mean      5.575342  1971.267808   1984.865753   103.685262   443.639726  ...   \n",
       "std       1.112799    30.202904     20.645407   181.066207   456.098091  ...   \n",
       "min       1.000000  1872.000000   1950.000000     0.000000     0.000000  ...   \n",
       "25%       5.000000  1954.000000   1967.000000     0.000000     0.000000  ...   \n",
       "50%       5.000000  1973.000000   1994.000000     0.000000   383.500000  ...   \n",
       "75%       6.000000  2000.000000   2004.000000   166.000000   712.250000  ...   \n",
       "max       9.000000  2010.000000   2010.000000  1600.000000  5644.000000  ...   \n",
       "\n",
       "        WoodDeckSF  OpenPorchSF  EnclosedPorch    3SsnPorch  ScreenPorch  \\\n",
       "count  1460.000000  1460.000000    1460.000000  1460.000000  1460.000000   \n",
       "mean     94.244521    46.660274      21.954110     3.409589    15.060959   \n",
       "std     125.338794    66.256028      61.119149    29.317331    55.757415   \n",
       "min       0.000000     0.000000       0.000000     0.000000     0.000000   \n",
       "25%       0.000000     0.000000       0.000000     0.000000     0.000000   \n",
       "50%       0.000000    25.000000       0.000000     0.000000     0.000000   \n",
       "75%     168.000000    68.000000       0.000000     0.000000     0.000000   \n",
       "max     857.000000   547.000000     552.000000   508.000000   480.000000   \n",
       "\n",
       "          PoolArea       MiscVal       MoSold       YrSold      SalePrice  \n",
       "count  1460.000000   1460.000000  1460.000000  1460.000000    1460.000000  \n",
       "mean      2.758904     43.489041     6.321918  2007.815753  180921.195890  \n",
       "std      40.177307    496.123024     2.703626     1.328095   79442.502883  \n",
       "min       0.000000      0.000000     1.000000  2006.000000   34900.000000  \n",
       "25%       0.000000      0.000000     5.000000  2007.000000  129975.000000  \n",
       "50%       0.000000      0.000000     6.000000  2008.000000  163000.000000  \n",
       "75%       0.000000      0.000000     8.000000  2009.000000  214000.000000  \n",
       "max     738.000000  15500.000000    12.000000  2010.000000  755000.000000  \n",
       "\n",
       "[8 rows x 38 columns]"
      ]
     },
     "execution_count": 3,
     "metadata": {},
     "output_type": "execute_result"
    }
   ],
   "source": [
    "ames_data.describe()"
   ]
  },
  {
   "cell_type": "code",
   "execution_count": 4,
   "metadata": {
    "scrolled": true
   },
   "outputs": [
    {
     "name": "stdout",
     "output_type": "stream",
     "text": [
      "<class 'pandas.core.frame.DataFrame'>\n",
      "RangeIndex: 1460 entries, 0 to 1459\n",
      "Data columns (total 81 columns):\n",
      "Id               1460 non-null int64\n",
      "MSSubClass       1460 non-null int64\n",
      "MSZoning         1460 non-null object\n",
      "LotFrontage      1201 non-null float64\n",
      "LotArea          1460 non-null int64\n",
      "Street           1460 non-null object\n",
      "Alley            91 non-null object\n",
      "LotShape         1460 non-null object\n",
      "LandContour      1460 non-null object\n",
      "Utilities        1460 non-null object\n",
      "LotConfig        1460 non-null object\n",
      "LandSlope        1460 non-null object\n",
      "Neighborhood     1460 non-null object\n",
      "Condition1       1460 non-null object\n",
      "Condition2       1460 non-null object\n",
      "BldgType         1460 non-null object\n",
      "HouseStyle       1460 non-null object\n",
      "OverallQual      1460 non-null int64\n",
      "OverallCond      1460 non-null int64\n",
      "YearBuilt        1460 non-null int64\n",
      "YearRemodAdd     1460 non-null int64\n",
      "RoofStyle        1460 non-null object\n",
      "RoofMatl         1460 non-null object\n",
      "Exterior1st      1460 non-null object\n",
      "Exterior2nd      1460 non-null object\n",
      "MasVnrType       1452 non-null object\n",
      "MasVnrArea       1452 non-null float64\n",
      "ExterQual        1460 non-null object\n",
      "ExterCond        1460 non-null object\n",
      "Foundation       1460 non-null object\n",
      "BsmtQual         1423 non-null object\n",
      "BsmtCond         1423 non-null object\n",
      "BsmtExposure     1422 non-null object\n",
      "BsmtFinType1     1423 non-null object\n",
      "BsmtFinSF1       1460 non-null int64\n",
      "BsmtFinType2     1422 non-null object\n",
      "BsmtFinSF2       1460 non-null int64\n",
      "BsmtUnfSF        1460 non-null int64\n",
      "TotalBsmtSF      1460 non-null int64\n",
      "Heating          1460 non-null object\n",
      "HeatingQC        1460 non-null object\n",
      "CentralAir       1460 non-null object\n",
      "Electrical       1459 non-null object\n",
      "1stFlrSF         1460 non-null int64\n",
      "2ndFlrSF         1460 non-null int64\n",
      "LowQualFinSF     1460 non-null int64\n",
      "GrLivArea        1460 non-null int64\n",
      "BsmtFullBath     1460 non-null int64\n",
      "BsmtHalfBath     1460 non-null int64\n",
      "FullBath         1460 non-null int64\n",
      "HalfBath         1460 non-null int64\n",
      "BedroomAbvGr     1460 non-null int64\n",
      "KitchenAbvGr     1460 non-null int64\n",
      "KitchenQual      1460 non-null object\n",
      "TotRmsAbvGrd     1460 non-null int64\n",
      "Functional       1460 non-null object\n",
      "Fireplaces       1460 non-null int64\n",
      "FireplaceQu      770 non-null object\n",
      "GarageType       1379 non-null object\n",
      "GarageYrBlt      1379 non-null float64\n",
      "GarageFinish     1379 non-null object\n",
      "GarageCars       1460 non-null int64\n",
      "GarageArea       1460 non-null int64\n",
      "GarageQual       1379 non-null object\n",
      "GarageCond       1379 non-null object\n",
      "PavedDrive       1460 non-null object\n",
      "WoodDeckSF       1460 non-null int64\n",
      "OpenPorchSF      1460 non-null int64\n",
      "EnclosedPorch    1460 non-null int64\n",
      "3SsnPorch        1460 non-null int64\n",
      "ScreenPorch      1460 non-null int64\n",
      "PoolArea         1460 non-null int64\n",
      "PoolQC           7 non-null object\n",
      "Fence            281 non-null object\n",
      "MiscFeature      54 non-null object\n",
      "MiscVal          1460 non-null int64\n",
      "MoSold           1460 non-null int64\n",
      "YrSold           1460 non-null int64\n",
      "SaleType         1460 non-null object\n",
      "SaleCondition    1460 non-null object\n",
      "SalePrice        1460 non-null int64\n",
      "dtypes: float64(3), int64(35), object(43)\n",
      "memory usage: 924.0+ KB\n"
     ]
    }
   ],
   "source": [
    "ames_data.info()"
   ]
  },
  {
   "cell_type": "code",
   "execution_count": 5,
   "metadata": {},
   "outputs": [
    {
     "data": {
      "text/plain": [
       "PoolQC          99.520548\n",
       "MiscFeature     96.301370\n",
       "Alley           93.767123\n",
       "Fence           80.753425\n",
       "FireplaceQu     47.260274\n",
       "LotFrontage     17.739726\n",
       "GarageYrBlt      5.547945\n",
       "GarageType       5.547945\n",
       "GarageFinish     5.547945\n",
       "GarageQual       5.547945\n",
       "GarageCond       5.547945\n",
       "BsmtFinType2     2.602740\n",
       "BsmtExposure     2.602740\n",
       "BsmtFinType1     2.534247\n",
       "BsmtCond         2.534247\n",
       "BsmtQual         2.534247\n",
       "MasVnrArea       0.547945\n",
       "MasVnrType       0.547945\n",
       "Electrical       0.068493\n",
       "dtype: float64"
      ]
     },
     "execution_count": 5,
     "metadata": {},
     "output_type": "execute_result"
    }
   ],
   "source": [
    "#Percent Missing Data\n",
    "ames_data.isnull().sum()[ames_data.isnull().sum() != 0].sort_values(ascending=False) / 14.60"
   ]
  },
  {
   "cell_type": "code",
   "execution_count": 6,
   "metadata": {},
   "outputs": [],
   "source": [
    "from sklearn.model_selection import train_test_split\n",
    "\n",
    "x=ames_data.drop([\"SalePrice\"], axis=1).copy()\n",
    "y=ames_data[\"SalePrice\"].copy()\n",
    "\n",
    "x_train, x_val, y_train, y_val = train_test_split(x, y, test_size=0.2)"
   ]
  },
  {
   "cell_type": "markdown",
   "metadata": {},
   "source": [
    "### Decision Tree Model (excluding categorical variables) :"
   ]
  },
  {
   "cell_type": "code",
   "execution_count": 7,
   "metadata": {},
   "outputs": [
    {
     "name": "stdout",
     "output_type": "stream",
     "text": [
      "(1168, 37)\n",
      "(1168, 34)\n"
     ]
    }
   ],
   "source": [
    "#Drop object type variables as these won't be accepted in sklearn tree\n",
    "x_train_num = x_train.select_dtypes(exclude=['object'])\n",
    "x_val_num = x_val.select_dtypes(exclude=['object'])\n",
    "print(x_train_num.shape)\n",
    "\n",
    "#Drop columns with missing values\n",
    "columns_with_missing = [c for c in x_train_num.columns if x_train_num[c].isnull().any()]\n",
    "x_train_reduced=x_train_num.drop(columns_with_missing, axis=1)\n",
    "x_val_reduced=x_val_num.drop(columns_with_missing, axis=1)\n",
    "print(x_train_reduced.shape)"
   ]
  },
  {
   "cell_type": "code",
   "execution_count": 8,
   "metadata": {},
   "outputs": [
    {
     "name": "stdout",
     "output_type": "stream",
     "text": [
      "MAE from Approach 1 (Drop columns with missing values) :  28823.164383561645\n"
     ]
    }
   ],
   "source": [
    "from sklearn.tree import DecisionTreeRegressor\n",
    "\n",
    "dtmodel=DecisionTreeRegressor()\n",
    "dtmodel.fit(x_train_reduced, y_train)\n",
    "predicted = dtmodel.predict(x_val_reduced)\n",
    "\n",
    "from sklearn.metrics import mean_absolute_error\n",
    "\n",
    "print(\"MAE from Approach 1 (Drop columns with missing values) : \", mean_absolute_error(y_val,predicted))"
   ]
  },
  {
   "cell_type": "code",
   "execution_count": 9,
   "metadata": {},
   "outputs": [
    {
     "name": "stdout",
     "output_type": "stream",
     "text": [
      "MAE from Approach 2 (Imputation) :  29451.102739726026\n"
     ]
    }
   ],
   "source": [
    "from sklearn.impute import SimpleImputer\n",
    "\n",
    "my_imputer=SimpleImputer()\n",
    "imputed_x_train = pd.DataFrame(my_imputer.fit_transform(x_train_num))\n",
    "imputed_x_val = pd.DataFrame(my_imputer.transform(x_val_num))\n",
    "\n",
    "imputed_x_train.columns=x_train_num.columns\n",
    "imputed_x_val.columns=x_val_num.columns\n",
    "\n",
    "dtmodel.fit(imputed_x_train, y_train)\n",
    "predicted = dtmodel.predict(imputed_x_val)\n",
    "\n",
    "print(\"MAE from Approach 2 (Imputation) : \", mean_absolute_error(y_val,predicted))"
   ]
  },
  {
   "cell_type": "code",
   "execution_count": 10,
   "metadata": {},
   "outputs": [
    {
     "name": "stdout",
     "output_type": "stream",
     "text": [
      "MAE from Approach 3 (An extension to Imputation) :  28137.37671232877\n"
     ]
    }
   ],
   "source": [
    "x_train_nplus = x_train_num.copy()\n",
    "x_val_nplus = x_val_num.copy()\n",
    "\n",
    "for c in columns_with_missing:\n",
    "    x_train_nplus[c + \"_was_missing\"] = x_train_nplus[c].isnull()\n",
    "    x_val_nplus[c + \"_was_missing\"] = x_val_nplus[c].isnull()\n",
    "\n",
    "imputed_x_train_plus = pd.DataFrame(my_imputer.fit_transform(x_train_nplus))\n",
    "imputed_x_val_plus = pd.DataFrame(my_imputer.transform(x_val_nplus))\n",
    "\n",
    "imputed_x_train_plus.columns=x_train_nplus.columns\n",
    "imputed_x_val_plus.columns=x_val_nplus.columns\n",
    "\n",
    "dtmodel.fit(imputed_x_train_plus, y_train)\n",
    "predicted = dtmodel.predict(imputed_x_val_plus)\n",
    "\n",
    "print(\"MAE from Approach 3 (An extension to Imputation) : \", mean_absolute_error(y_val,predicted))"
   ]
  },
  {
   "cell_type": "markdown",
   "metadata": {},
   "source": [
    "### Random Forest Model (excluding columns with missing values) :"
   ]
  },
  {
   "cell_type": "code",
   "execution_count": 11,
   "metadata": {},
   "outputs": [
    {
     "name": "stdout",
     "output_type": "stream",
     "text": [
      "(1168, 61)\n",
      "(1168, 58)\n"
     ]
    }
   ],
   "source": [
    "#Dropping columns with missing values(for simplicity)\n",
    "columns_with_missing = [c for c in x_train.columns if x_train[c].isnull().any()]\n",
    "x_train_v2 = x_train.drop(columns_with_missing, axis=1).copy()\n",
    "x_val_v2 = x_val.drop(columns_with_missing, axis=1).copy()\n",
    "print(x_train_v2.shape)\n",
    "\n",
    "#\"Cardinality\" means the number of unique values in a column\n",
    "#Select categorical columns with relatively low cardinality (convenient but arbitrary)\n",
    "low_cardinality_cols = [c for c in x_train_v2.columns if x_train_v2[c].nunique() < 10 and x_train_v2[c].dtype==\"object\"]\n",
    "#Select numerical columns\n",
    "numerical_cols = [c for c in x_train_v2.columns if x_train_v2[c].dtype in ['int64', 'float64']]\n",
    "\n",
    "x_train_v2 = x_train_v2[low_cardinality_cols + numerical_cols].copy()\n",
    "x_val_v2 = x_val_v2[low_cardinality_cols + numerical_cols].copy()\n",
    "print(x_train_v2.shape)"
   ]
  },
  {
   "cell_type": "code",
   "execution_count": 12,
   "metadata": {},
   "outputs": [
    {
     "name": "stdout",
     "output_type": "stream",
     "text": [
      "Categorical Variables :\n",
      "['MSZoning', 'Street', 'LotShape', 'LandContour', 'Utilities', 'LotConfig', 'LandSlope', 'Condition1', 'Condition2', 'BldgType', 'HouseStyle', 'RoofStyle', 'RoofMatl', 'ExterQual', 'ExterCond', 'Foundation', 'Heating', 'HeatingQC', 'CentralAir', 'KitchenQual', 'Functional', 'PavedDrive', 'SaleType', 'SaleCondition']\n"
     ]
    }
   ],
   "source": [
    "#Get list of categorical variables\n",
    "s = (x_train_v2.dtypes==\"object\")\n",
    "object_cols = list(s[s].index)\n",
    "\n",
    "print(\"Categorical Variables :\")\n",
    "print(object_cols)"
   ]
  },
  {
   "cell_type": "code",
   "execution_count": 13,
   "metadata": {},
   "outputs": [],
   "source": [
    "from sklearn.ensemble import RandomForestRegressor\n",
    "\n",
    "def score_rf100(x_tr, x_v, y_tr, y_v):\n",
    "    rfmodel = RandomForestRegressor(n_estimators=100)\n",
    "    rfmodel.fit(x_tr, y_tr)\n",
    "    predicted = rfmodel.predict(x_v)\n",
    "    return mean_absolute_error(y_v, predicted)"
   ]
  },
  {
   "cell_type": "code",
   "execution_count": 14,
   "metadata": {},
   "outputs": [
    {
     "name": "stdout",
     "output_type": "stream",
     "text": [
      "MAE from Approach 1 (Drop categorical variables) :  19559.565513698628\n"
     ]
    }
   ],
   "source": [
    "drop_X_train = x_train_v2.select_dtypes(exclude=['object'])\n",
    "drop_X_val = x_val_v2.select_dtypes(exclude=['object'])\n",
    "\n",
    "print(\"MAE from Approach 1 (Drop categorical variables) : \", score_rf100(drop_X_train, drop_X_val, y_train, y_val))"
   ]
  },
  {
   "cell_type": "code",
   "execution_count": 15,
   "metadata": {},
   "outputs": [
    {
     "name": "stdout",
     "output_type": "stream",
     "text": [
      "MAE from Approach 2 (Label Encoding) :  19040.662842465757\n"
     ]
    }
   ],
   "source": [
    "from sklearn.preprocessing import LabelEncoder\n",
    "\n",
    "label_x_train = x_train_v2.copy()\n",
    "label_x_val = x_val_v2.copy()\n",
    "\n",
    "my_encoder = LabelEncoder()\n",
    "\n",
    "#LabelEncoder doesn't know how to handle unseen categories(hence using full data to train)\n",
    "for c in object_cols:\n",
    "    my_encoder.fit(x[c]) #Throws error on this line sometimes (perhaps due to some missing value that can't be typecasted)\n",
    "    label_x_train[c] = my_encoder.transform(label_x_train[c])\n",
    "    label_x_val[c] = my_encoder.transform(label_x_val[c])\n",
    "\n",
    "print(\"MAE from Approach 2 (Label Encoding) : \", score_rf100(label_x_train, label_x_val, y_train, y_val))"
   ]
  },
  {
   "cell_type": "code",
   "execution_count": 16,
   "metadata": {},
   "outputs": [
    {
     "name": "stdout",
     "output_type": "stream",
     "text": [
      "MAE from Approach 3 (One-Hot Encoding) :  18841.7852739726\n"
     ]
    }
   ],
   "source": [
    "from sklearn.preprocessing import OneHotEncoder\n",
    "\n",
    "oh_encoder = OneHotEncoder(handle_unknown='ignore', sparse=False)\n",
    "oh_cols_train = pd.DataFrame(oh_encoder.fit_transform(x_train_v2[object_cols]))\n",
    "oh_cols_val = pd.DataFrame(oh_encoder.transform(x_val_v2[object_cols]))\n",
    "\n",
    "oh_cols_train.index = x_train_v2.index\n",
    "oh_cols_val.index = x_val_v2.index\n",
    "\n",
    "x_train_num2 = x_train_v2.drop(object_cols, axis=1)\n",
    "x_val_num2 = x_val_v2.drop(object_cols, axis=1)\n",
    "\n",
    "oh_x_train = pd.concat([x_train_num2, oh_cols_train], axis=1)\n",
    "oh_x_val = pd.concat([x_val_num2, oh_cols_val], axis=1)\n",
    "\n",
    "print(\"MAE from Approach 3 (One-Hot Encoding) : \", score_rf100(oh_x_train, oh_x_val, y_train, y_val))"
   ]
  },
  {
   "cell_type": "markdown",
   "metadata": {},
   "source": [
    "### Final Random Forest :\n",
    "#### (All the missing values handled and including categorical variables)"
   ]
  },
  {
   "cell_type": "raw",
   "metadata": {},
   "source": [
    "Concluding above analysis :\n",
    "    Task 1  - Impute all missing numerical variables with mean\n",
    "    Task 2  - Extended imputation for variables :\n",
    "                 \"PoolQC\", \"MiscFeature\", \"Alley\", \"Fence\", \"FireplaceQu\", \"LotFrontage\", \"GarageYrBlt\"\n",
    "    Task 3a - Impute low cardinality categorical variables with mode\n",
    "    Task 3b - One Hot encoding for categorical variables with low cardinality\n",
    "    Task 4  - Drop categorical columns and train random forest with basic hyperparameter tuning."
   ]
  },
  {
   "cell_type": "code",
   "execution_count": 17,
   "metadata": {},
   "outputs": [
    {
     "name": "stdout",
     "output_type": "stream",
     "text": [
      "(1168, 80)\n",
      "(1168, 239)\n"
     ]
    }
   ],
   "source": [
    "x_train_finalv1 = x_train.copy()\n",
    "x_val_finalv1 = x_val.copy()\n",
    "print(x_train_finalv1.shape)\n",
    "\n",
    "numerical_cols = [c for c in x_train_finalv1.columns if x_train_finalv1[c].dtypes in ['int64', 'float64']]\n",
    "low_cardinality_cols = [c for c in x_train_finalv1.columns if x_train_finalv1[c].nunique()<10 and x_train_finalv1[c].dtype=='object']\n",
    "ext_impute_cols = [\"PoolQC\", \"MiscFeature\", \"Alley\", \"Fence\", \"FireplaceQu\", \"LotFrontage\", \"GarageYrBlt\"]\n",
    "\n",
    "#Task 2 :\n",
    "for col in ext_impute_cols:\n",
    "    x_train_finalv1[col + \"_was_missing\"] = x_train_finalv1[col].isnull()\n",
    "    x_val_finalv1[col + \"_was_missing\"] = x_val_finalv1[col].isnull()\n",
    "\n",
    "data2_train = x_train_finalv1[[i+\"_was_missing\" for i in ext_impute_cols]].copy()\n",
    "data2_val = x_val_finalv1[[i+\"_was_missing\" for i in ext_impute_cols]].copy()\n",
    "\n",
    "#Task 1 :\n",
    "num_imputer = SimpleImputer() #index is included below as it was getting reset in the new dataframe\n",
    "data1_train = pd.DataFrame(num_imputer.fit_transform(x_train_finalv1[numerical_cols]), index=x_train_finalv1.index)\n",
    "data1_val = pd.DataFrame(num_imputer.transform(x_val_finalv1[numerical_cols]), index=x_val_finalv1.index)\n",
    "\n",
    "data1_train.columns = x_train_finalv1[numerical_cols].columns\n",
    "data1_val.columns = x_val_finalv1[numerical_cols].columns\n",
    "\n",
    "#Task 3a :\n",
    "char_imputer = SimpleImputer(strategy='most_frequent') #index is included below as it was getting reset in the new dataframe\n",
    "data3a_train = pd.DataFrame(char_imputer.fit_transform(x_train_finalv1[low_cardinality_cols]), index=x_train_finalv1.index)\n",
    "data3a_val = pd.DataFrame(char_imputer.transform(x_val_finalv1[low_cardinality_cols]), index=x_val_finalv1.index)\n",
    "\n",
    "data3a_train.columns = x_train_finalv1[low_cardinality_cols].columns\n",
    "data3a_val.columns = x_val_finalv1[low_cardinality_cols].columns\n",
    "\n",
    "#Task 3b :\n",
    "oh_encoder = OneHotEncoder(sparse = False, handle_unknown = 'ignore')\n",
    "data3b_train = pd.DataFrame(oh_encoder.fit_transform(data3a_train))\n",
    "data3b_val = pd.DataFrame(oh_encoder.transform(data3a_val))\n",
    "\n",
    "data3b_train.index = data3a_train.index\n",
    "data3b_val.index = data3a_val.index\n",
    "\n",
    "#Final Data :\n",
    "x_train_finalv2 = pd.concat([data1_train, data2_train, data3b_train], axis=1)\n",
    "x_val_finalv2 = pd.concat([data1_val, data2_val, data3b_val], axis=1)\n",
    "print(x_train_finalv2.shape)"
   ]
  },
  {
   "cell_type": "code",
   "execution_count": 18,
   "metadata": {},
   "outputs": [
    {
     "name": "stdout",
     "output_type": "stream",
     "text": [
      "(1168, 87)\n",
      "(1168, 37)\n",
      "(1168, 7)\n",
      "(1168, 40)\n",
      "(1168, 195)\n",
      "(1168, 239)\n"
     ]
    }
   ],
   "source": [
    "print(x_train_finalv1.shape)\n",
    "print(data1_train.shape)\n",
    "print(data2_train.shape)\n",
    "print(data3a_train.shape)\n",
    "print(data3b_train.shape)\n",
    "print(x_train_finalv2.shape)"
   ]
  },
  {
   "cell_type": "code",
   "execution_count": 43,
   "metadata": {},
   "outputs": [],
   "source": [
    "#Function for HyperParameter Tuning :\n",
    "\n",
    "def get_mae(ntree, x_tr, x_v, y_tr, y_v):\n",
    "    model = RandomForestRegressor(n_estimators=ntree)\n",
    "    model.fit(x_tr, y_tr)\n",
    "    predicted = model.predict(x_v)\n",
    "    mae_val = mean_absolute_error(y_v, predicted)\n",
    "    predicted = model.predict(x_tr)\n",
    "    mae_train = mean_absolute_error(y_tr, predicted)\n",
    "    return mae_train, mae_val\n"
   ]
  },
  {
   "cell_type": "code",
   "execution_count": 44,
   "metadata": {
    "scrolled": true
   },
   "outputs": [
    {
     "data": {
      "text/html": [
       "<div>\n",
       "<style scoped>\n",
       "    .dataframe tbody tr th:only-of-type {\n",
       "        vertical-align: middle;\n",
       "    }\n",
       "\n",
       "    .dataframe tbody tr th {\n",
       "        vertical-align: top;\n",
       "    }\n",
       "\n",
       "    .dataframe thead th {\n",
       "        text-align: right;\n",
       "    }\n",
       "</style>\n",
       "<table border=\"1\" class=\"dataframe\">\n",
       "  <thead>\n",
       "    <tr style=\"text-align: right;\">\n",
       "      <th></th>\n",
       "      <th>TreeCount</th>\n",
       "      <th>MAE_train</th>\n",
       "      <th>MAE_val</th>\n",
       "    </tr>\n",
       "  </thead>\n",
       "  <tbody>\n",
       "    <tr>\n",
       "      <th>0</th>\n",
       "      <td>10</td>\n",
       "      <td>7703.674572</td>\n",
       "      <td>20673.575685</td>\n",
       "    </tr>\n",
       "    <tr>\n",
       "      <th>1</th>\n",
       "      <td>20</td>\n",
       "      <td>7347.745933</td>\n",
       "      <td>20059.202911</td>\n",
       "    </tr>\n",
       "    <tr>\n",
       "      <th>2</th>\n",
       "      <td>30</td>\n",
       "      <td>6912.865753</td>\n",
       "      <td>19680.591895</td>\n",
       "    </tr>\n",
       "    <tr>\n",
       "      <th>3</th>\n",
       "      <td>40</td>\n",
       "      <td>6902.243622</td>\n",
       "      <td>18876.311901</td>\n",
       "    </tr>\n",
       "    <tr>\n",
       "      <th>4</th>\n",
       "      <td>50</td>\n",
       "      <td>6724.757260</td>\n",
       "      <td>19259.140822</td>\n",
       "    </tr>\n",
       "  </tbody>\n",
       "</table>\n",
       "</div>"
      ],
      "text/plain": [
       "   TreeCount    MAE_train       MAE_val\n",
       "0         10  7703.674572  20673.575685\n",
       "1         20  7347.745933  20059.202911\n",
       "2         30  6912.865753  19680.591895\n",
       "3         40  6902.243622  18876.311901\n",
       "4         50  6724.757260  19259.140822"
      ]
     },
     "execution_count": 44,
     "metadata": {},
     "output_type": "execute_result"
    }
   ],
   "source": [
    "cv_curve = []\n",
    "for ntree in range(10,501,10):\n",
    "    mae_train, mae_val = get_mae(ntree, x_train_finalv2, x_val_finalv2, y_train, y_val)\n",
    "    #print(\"Number of Trees : %d \\t Mean Absolute Error (Train) : %d \\t Mean Absolute Error (Train) : %d\" %(ntree,mae_train,mae_val))\n",
    "    cv_curve.append((ntree,mae_train, mae_val))\n",
    "\n",
    "cv_curve = pd.DataFrame(cv_curve, columns=[\"TreeCount\", \"MAE_train\", \"MAE_val\"])\n",
    "cv_curve.head()"
   ]
  },
  {
   "cell_type": "code",
   "execution_count": 45,
   "metadata": {},
   "outputs": [
    {
     "data": {
      "text/plain": [
       "<matplotlib.axes._subplots.AxesSubplot at 0x252d9a0f0f0>"
      ]
     },
     "execution_count": 45,
     "metadata": {},
     "output_type": "execute_result"
    },
    {
     "data": {
      "image/png": "[encoded data removed]",
      "text/plain": [
       "<Figure size 432x288 with 1 Axes>"
      ]
     },
     "metadata": {
      "needs_background": "light"
     },
     "output_type": "display_data"
    }
   ],
   "source": [
    "from matplotlib import pyplot as plt\n",
    "%matplotlib inline\n",
    "\n",
    "cv_curve.plot(x=\"TreeCount\", y=[\"MAE_train\", \"MAE_val\"])"
   ]
  },
  {
   "cell_type": "code",
   "execution_count": 46,
   "metadata": {},
   "outputs": [
    {
     "data": {
      "text/plain": [
       "<matplotlib.axes._subplots.AxesSubplot at 0x252d9c6a518>"
      ]
     },
     "execution_count": 46,
     "metadata": {},
     "output_type": "execute_result"
    },
    {
     "data": {
      "image/png": "[encoded data removed]",
      "text/plain": [
       "<Figure size 432x288 with 1 Axes>"
      ]
     },
     "metadata": {
      "needs_background": "light"
     },
     "output_type": "display_data"
    }
   ],
   "source": [
    "cv_curve = []\n",
    "for ntree in range(10,81,10):\n",
    "    mae_train, mae_val = get_mae(ntree, x_train_finalv2, x_val_finalv2, y_train, y_val)\n",
    "    cv_curve.append((ntree,mae_train, mae_val))\n",
    "\n",
    "cv_curve = pd.DataFrame(cv_curve, columns=[\"TreeCount\", \"MAE_train\", \"MAE_val\"])\n",
    "\n",
    "#Plot to get an idea of best Treecount\n",
    "cv_curve[\"best\"] = cv_curve.MAE_val.min()\n",
    "cv_curve.plot(x=\"TreeCount\", y=[\"MAE_train\", \"MAE_val\", \"best\"])"
   ]
  },
  {
   "cell_type": "code",
   "execution_count": 47,
   "metadata": {},
   "outputs": [
    {
     "name": "stdout",
     "output_type": "stream",
     "text": [
      "MAE after n_estimators optimisation :  19176.139109589043\n"
     ]
    }
   ],
   "source": [
    "rfmodel = RandomForestRegressor(n_estimators = 50)\n",
    "rfmodel.fit(x_train_finalv2,y_train)\n",
    "predicted = rfmodel.predict(x_val_finalv2)\n",
    "print(\"MAE after n_estimators optimisation : \",mean_absolute_error(y_val, predicted))"
   ]
  },
  {
   "cell_type": "code",
   "execution_count": 56,
   "metadata": {},
   "outputs": [
    {
     "data": {
      "text/html": [
       "<div>\n",
       "<style scoped>\n",
       "    .dataframe tbody tr th:only-of-type {\n",
       "        vertical-align: middle;\n",
       "    }\n",
       "\n",
       "    .dataframe tbody tr th {\n",
       "        vertical-align: top;\n",
       "    }\n",
       "\n",
       "    .dataframe thead th {\n",
       "        text-align: right;\n",
       "    }\n",
       "</style>\n",
       "<table border=\"1\" class=\"dataframe\">\n",
       "  <thead>\n",
       "    <tr style=\"text-align: right;\">\n",
       "      <th></th>\n",
       "      <th>Feature</th>\n",
       "      <th>Importance</th>\n",
       "    </tr>\n",
       "  </thead>\n",
       "  <tbody>\n",
       "    <tr>\n",
       "      <th>4</th>\n",
       "      <td>OverallQual</td>\n",
       "      <td>0.573057</td>\n",
       "    </tr>\n",
       "    <tr>\n",
       "      <th>16</th>\n",
       "      <td>GrLivArea</td>\n",
       "      <td>0.117323</td>\n",
       "    </tr>\n",
       "    <tr>\n",
       "      <th>9</th>\n",
       "      <td>BsmtFinSF1</td>\n",
       "      <td>0.042634</td>\n",
       "    </tr>\n",
       "    <tr>\n",
       "      <th>12</th>\n",
       "      <td>TotalBsmtSF</td>\n",
       "      <td>0.038700</td>\n",
       "    </tr>\n",
       "    <tr>\n",
       "      <th>26</th>\n",
       "      <td>GarageCars</td>\n",
       "      <td>0.023373</td>\n",
       "    </tr>\n",
       "  </tbody>\n",
       "</table>\n",
       "</div>"
      ],
      "text/plain": [
       "        Feature  Importance\n",
       "4   OverallQual    0.573057\n",
       "16    GrLivArea    0.117323\n",
       "9    BsmtFinSF1    0.042634\n",
       "12  TotalBsmtSF    0.038700\n",
       "26   GarageCars    0.023373"
      ]
     },
     "execution_count": 56,
     "metadata": {},
     "output_type": "execute_result"
    }
   ],
   "source": [
    "features = pd.DataFrame({\"Feature\" : list(x_train_finalv2.columns),\n",
    "                         \"Importance\" : rfmodel.feature_importances_})\n",
    "features.sort_values(ascending=False, by=\"Importance\", inplace=True)\n",
    "features.head()"
   ]
  },
  {
   "cell_type": "code",
   "execution_count": 59,
   "metadata": {},
   "outputs": [
    {
     "data": {
      "text/plain": [
       "<matplotlib.axes._subplots.AxesSubplot at 0x252ded209e8>"
      ]
     },
     "execution_count": 59,
     "metadata": {},
     "output_type": "execute_result"
    },
    {
     "data": {
      "image/png": "[encoded data removed]",
      "text/plain": [
       "<Figure size 432x288 with 1 Axes>"
      ]
     },
     "metadata": {
      "needs_background": "light"
     },
     "output_type": "display_data"
    }
   ],
   "source": [
    "features.head(20).plot.bar(x=\"Feature\", y=\"Importance\")"
   ]
  },
  {
   "cell_type": "markdown",
   "metadata": {},
   "source": [
    "#### Random Forest with selected features :"
   ]
  },
  {
   "cell_type": "code",
   "execution_count": 75,
   "metadata": {},
   "outputs": [
    {
     "name": "stdout",
     "output_type": "stream",
     "text": [
      "MAE after feature selection :  19106.43479452055\n"
     ]
    }
   ],
   "source": [
    "#Using 25 most important variables :\n",
    "imp_vars = list(features[\"Feature\"][:26])\n",
    "imp_vars.remove('Id')\n",
    "rfmodel2 = RandomForestRegressor(n_estimators = 50)\n",
    "rfmodel2.fit(x_train_finalv2[imp_vars],y_train)\n",
    "predicted = rfmodel2.predict(x_val_finalv2[imp_vars])\n",
    "print(\"MAE after feature selection : \",mean_absolute_error(y_val, predicted))"
   ]
  },
  {
   "cell_type": "code",
   "execution_count": 74,
   "metadata": {},
   "outputs": [
    {
     "data": {
      "text/plain": [
       "<matplotlib.axes._subplots.AxesSubplot at 0x252df0e8ac8>"
      ]
     },
     "execution_count": 74,
     "metadata": {},
     "output_type": "execute_result"
    },
    {
     "data": {
      "image/png": "[encoded data removed]",
      "text/plain": [
       "<Figure size 432x288 with 1 Axes>"
      ]
     },
     "metadata": {
      "needs_background": "light"
     },
     "output_type": "display_data"
    }
   ],
   "source": [
    "cv_curve = []\n",
    "for ntree in range(10,101,10):\n",
    "    mae_train, mae_val = get_mae(ntree, x_train_finalv2[imp_vars], x_val_finalv2[imp_vars], y_train, y_val)\n",
    "    cv_curve.append((ntree,mae_train, mae_val))\n",
    "\n",
    "cv_curve = pd.DataFrame(cv_curve, columns=[\"TreeCount\", \"MAE_train\", \"MAE_val\"])\n",
    "\n",
    "cv_curve[\"best\"] = cv_curve.MAE_val.min()\n",
    "cv_curve.plot(x=\"TreeCount\", y=[\"MAE_train\", \"MAE_val\", \"best\"])"
   ]
  },
  {
   "cell_type": "code",
   "execution_count": 76,
   "metadata": {},
   "outputs": [
    {
     "name": "stdout",
     "output_type": "stream",
     "text": [
      "MAE after n_estimators optimisation and feature selection :  18895.41319634703\n"
     ]
    }
   ],
   "source": [
    "rfmodel2 = RandomForestRegressor(n_estimators = 75)\n",
    "rfmodel2.fit(x_train_finalv2[imp_vars],y_train)\n",
    "predicted = rfmodel2.predict(x_val_finalv2[imp_vars])\n",
    "print(\"MAE after n_estimators optimisation and feature selection : \",mean_absolute_error(y_val, predicted))"
   ]
  },
  {
   "cell_type": "markdown",
   "metadata": {},
   "source": [
    "### Prediction on Test Data (Kaggle Submission) :"
   ]
  },
  {
   "cell_type": "code",
   "execution_count": 77,
   "metadata": {},
   "outputs": [],
   "source": [
    "test_finalv1 = test_data.copy()\n",
    "\n",
    "numerical_cols = [c for c in test_finalv1.columns if test_finalv1[c].dtypes in ['int64', 'float64']]\n",
    "low_cardinality_cols = [c for c in test_finalv1.columns if test_finalv1[c].nunique()<10 and test_finalv1[c].dtype=='object']\n",
    "ext_impute_cols = [\"PoolQC\", \"MiscFeature\", \"Alley\", \"Fence\", \"FireplaceQu\", \"LotFrontage\", \"GarageYrBlt\"]\n",
    "\n",
    "#Task 2 :\n",
    "for col in ext_impute_cols:\n",
    "    test_finalv1[col + \"_was_missing\"] = test_finalv1[col].isnull()\n",
    "\n",
    "data2_test = test_finalv1[[i+\"_was_missing\" for i in ext_impute_cols]].copy()\n",
    "\n",
    "#Task 1 :\n",
    "data1_test = pd.DataFrame(num_imputer.transform(test_finalv1[numerical_cols]), index=test_finalv1.index)\n",
    "\n",
    "data1_test.columns = test_finalv1[numerical_cols].columns\n",
    "\n",
    "#Task 3a :\n",
    "data3a_test = pd.DataFrame(char_imputer.transform(test_finalv1[low_cardinality_cols]), index=test_finalv1.index)\n",
    "\n",
    "data3a_test.columns = test_finalv1[low_cardinality_cols].columns\n",
    "\n",
    "#Task 3b :\n",
    "data3b_test = pd.DataFrame(oh_encoder.transform(data3a_test))\n",
    "\n",
    "data3b_test.index = data3a_test.index\n",
    "\n",
    "#Final Data :\n",
    "x_test_finalv2 = pd.concat([data1_test, data2_test, data3b_test], axis=1)"
   ]
  },
  {
   "cell_type": "code",
   "execution_count": 88,
   "metadata": {
    "scrolled": true
   },
   "outputs": [
    {
     "data": {
      "text/plain": [
       "Id           float64\n",
       "SalePrice    float64\n",
       "dtype: object"
      ]
     },
     "execution_count": 88,
     "metadata": {},
     "output_type": "execute_result"
    }
   ],
   "source": [
    "predicted = rfmodel2.predict(x_test_finalv2[imp_vars])\n",
    "submission = pd.DataFrame({\"Id\" : list(x_test_finalv2.Id),\n",
    "                          \"SalePrice\" : predicted})\n",
    "submission.dtypes"
   ]
  },
  {
   "cell_type": "code",
   "execution_count": 93,
   "metadata": {},
   "outputs": [],
   "source": [
    "submission = submission.astype({'Id' : 'int32', 'SalePrice' : 'float32'})\n",
    "submission.to_csv(location + \"/submission_v1.csv\", index=False)\n",
    "#Rank : 3674/5395 (score : 0.15840)"
   ]
  }
 ],
 "metadata": {
  "kernelspec": {
   "display_name": "Python 3",
   "language": "python",
   "name": "python3"
  },
  "language_info": {
   "codemirror_mode": {
    "name": "ipython",
    "version": 3
   },
   "file_extension": ".py",
   "mimetype": "text/x-python",
   "name": "python",
   "nbconvert_exporter": "python",
   "pygments_lexer": "ipython3",
   "version": "3.7.6"
  }
 },
 "nbformat": 4,
 "nbformat_minor": 2
}
